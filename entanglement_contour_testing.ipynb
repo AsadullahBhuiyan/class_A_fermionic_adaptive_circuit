{
 "cells": [
  {
   "cell_type": "code",
   "execution_count": 2,
   "id": "b44aa62a",
   "metadata": {},
   "outputs": [],
   "source": [
    "import numpy as np\n",
    "import importlib\n",
    "import classA_U1FGTN\n",
    "importlib.reload(classA_U1FGTN)\n",
    "from classA_U1FGTN import classA_U1FGTN\n",
    "from matplotlib import pyplot as plt\n",
    "import os\n",
    "import time"
   ]
  },
  {
   "cell_type": "code",
   "execution_count": null,
   "id": "941a2de6",
   "metadata": {},
   "outputs": [],
   "source": [
    "# --- Cell 2: basic config & helper for clean prints ---\n",
    "Nx, Ny    = 8, 8        # keep small for quick tests; bump later (e.g., 21)\n",
    "cycles    = 10              # short run for smoke test\n",
    "samples   = 10             # small sample count to keep it snappy\n",
    "n_jobs    = 10              # try <= samples\n",
    "backend   = \"threading\"         # \"loky\" (processes) or \"threading\"\n",
    "nshell    = None           # whatever you usually use\n",
    "DW        = True           # enable domain walls (to exercise smart x0 picking)\n",
    "\n",
    "def banner(msg):\n",
    "    print(\"\\n\" + \"=\"*len(msg))\n",
    "    print(msg)\n",
    "    print(\"=\"*len(msg))"
   ]
  },
  {
   "cell_type": "code",
   "execution_count": 7,
   "id": "3d734cce",
   "metadata": {},
   "outputs": [
    {
     "name": "stdout",
     "output_type": "stream",
     "text": [
      "DWs at x=(2, 5)\n",
      "------------------------- classA_U1FGTN Initialized -------------------------\n"
     ]
    }
   ],
   "source": [
    "# --- Cell 3: instantiate the model ---\n",
    "m = classA_U1FGTN(Nx=Nx, Ny=Ny, DW=DW, cycles=cycles, samples=samples, nshell=nshell)"
   ]
  },
  {
   "cell_type": "code",
   "execution_count": 8,
   "id": "78368e70",
   "metadata": {},
   "outputs": [
    {
     "name": "stdout",
     "output_type": "stream",
     "text": [
      "\n",
      "=======================================\n",
      "Running entanglement_contour_dynamics()\n",
      "=======================================\n"
     ]
    },
    {
     "ename": "ValueError",
     "evalue": "Invalid backend: threads, expected one of ['loky', 'multiprocessing', 'sequential', 'threading']",
     "output_type": "error",
     "traceback": [
      "\u001b[31m---------------------------------------------------------------------------\u001b[39m",
      "\u001b[31mKeyError\u001b[39m                                  Traceback (most recent call last)",
      "\u001b[36mFile \u001b[39m\u001b[32m~/anaconda3/envs/fermionic_env/lib/python3.11/site-packages/joblib/parallel.py:1312\u001b[39m, in \u001b[36mParallel.__init__\u001b[39m\u001b[34m(self, n_jobs, backend, return_as, verbose, timeout, pre_dispatch, batch_size, temp_folder, max_nbytes, mmap_mode, prefer, require, **backend_kwargs)\u001b[39m\n\u001b[32m   1311\u001b[39m \u001b[38;5;28;01mtry\u001b[39;00m:\n\u001b[32m-> \u001b[39m\u001b[32m1312\u001b[39m     backend_factory = \u001b[43mBACKENDS\u001b[49m\u001b[43m[\u001b[49m\u001b[43mbackend\u001b[49m\u001b[43m]\u001b[49m\n\u001b[32m   1313\u001b[39m \u001b[38;5;28;01mexcept\u001b[39;00m \u001b[38;5;167;01mKeyError\u001b[39;00m \u001b[38;5;28;01mas\u001b[39;00m e:\n",
      "\u001b[31mKeyError\u001b[39m: 'threads'",
      "\nThe above exception was the direct cause of the following exception:\n",
      "\u001b[31mValueError\u001b[39m                                Traceback (most recent call last)",
      "\u001b[36mCell\u001b[39m\u001b[36m \u001b[39m\u001b[32mIn[8]\u001b[39m\u001b[32m, line 5\u001b[39m\n\u001b[32m      3\u001b[39m start = time.time()\n\u001b[32m      4\u001b[39m banner(\u001b[33m\"\u001b[39m\u001b[33mRunning entanglement_contour_dynamics()\u001b[39m\u001b[33m\"\u001b[39m)\n\u001b[32m----> \u001b[39m\u001b[32m5\u001b[39m outdir_dyn = \u001b[43mm\u001b[49m\u001b[43m.\u001b[49m\u001b[43mentanglement_contour_dynamics\u001b[49m\u001b[43m(\u001b[49m\n\u001b[32m      6\u001b[39m \u001b[43m    \u001b[49m\u001b[43msamples\u001b[49m\u001b[43m=\u001b[49m\u001b[43msamples\u001b[49m\u001b[43m,\u001b[49m\n\u001b[32m      7\u001b[39m \u001b[43m    \u001b[49m\u001b[43mn_jobs\u001b[49m\u001b[43m=\u001b[49m\u001b[43mn_jobs\u001b[49m\u001b[43m,\u001b[49m\n\u001b[32m      8\u001b[39m \u001b[43m    \u001b[49m\u001b[43mbackend\u001b[49m\u001b[43m=\u001b[49m\u001b[43mbackend\u001b[49m\u001b[43m,\u001b[49m\u001b[43m        \u001b[49m\u001b[38;5;66;43;03m# \"loky\" strongly recommended for reproducibility\u001b[39;49;00m\n\u001b[32m      9\u001b[39m \u001b[43m    \u001b[49m\u001b[43msave_data\u001b[49m\u001b[43m=\u001b[49m\u001b[38;5;28;43;01mTrue\u001b[39;49;00m\u001b[43m,\u001b[49m\n\u001b[32m     10\u001b[39m \u001b[43m    \u001b[49m\u001b[43mfilename_prefix\u001b[49m\u001b[43m=\u001b[49m\u001b[33;43mf\u001b[39;49m\u001b[33;43m\"\u001b[39;49m\u001b[33;43msmoketest_N\u001b[39;49m\u001b[38;5;132;43;01m{\u001b[39;49;00m\u001b[43mNx\u001b[49m\u001b[38;5;132;43;01m}\u001b[39;49;00m\u001b[33;43m_S\u001b[39;49m\u001b[38;5;132;43;01m{\u001b[39;49;00m\u001b[43msamples\u001b[49m\u001b[38;5;132;43;01m}\u001b[39;49;00m\u001b[33;43m_J\u001b[39;49m\u001b[38;5;132;43;01m{\u001b[39;49;00m\u001b[43mn_jobs\u001b[49m\u001b[38;5;132;43;01m}\u001b[39;49;00m\u001b[33;43m_\u001b[39;49m\u001b[38;5;132;43;01m{\u001b[39;49;00m\u001b[43mbackend\u001b[49m\u001b[38;5;132;43;01m}\u001b[39;49;00m\u001b[33;43m\"\u001b[39;49m\n\u001b[32m     11\u001b[39m \u001b[43m)\u001b[49m\n\u001b[32m     12\u001b[39m elapsed = time.time() - start\n\u001b[32m     13\u001b[39m \u001b[38;5;28mprint\u001b[39m(\u001b[33mf\u001b[39m\u001b[33m\"\u001b[39m\u001b[38;5;130;01m\\n\u001b[39;00m\u001b[33mSaved dynamics outputs in:\u001b[39m\u001b[38;5;130;01m\\n\u001b[39;00m\u001b[33m  \u001b[39m\u001b[38;5;132;01m{\u001b[39;00moutdir_dyn\u001b[38;5;132;01m}\u001b[39;00m\u001b[38;5;130;01m\\n\u001b[39;00m\u001b[33mElapsed: \u001b[39m\u001b[38;5;132;01m{\u001b[39;00melapsed\u001b[38;5;132;01m:\u001b[39;00m\u001b[33m.2f\u001b[39m\u001b[38;5;132;01m}\u001b[39;00m\u001b[33ms\u001b[39m\u001b[33m\"\u001b[39m)\n",
      "\u001b[36mFile \u001b[39m\u001b[32m~/class_A_fermionic_adaptive_circuit/classA_U1FGTN.py:1336\u001b[39m, in \u001b[36mclassA_U1FGTN.entanglement_contour_dynamics\u001b[39m\u001b[34m(self, samples, n_jobs, save_data, filename_prefix, backend)\u001b[39m\n\u001b[32m   1332\u001b[39m \u001b[38;5;28;01mif\u001b[39;00m backend == \u001b[33m\"\u001b[39m\u001b[33mthreading\u001b[39m\u001b[33m\"\u001b[39m:\n\u001b[32m   1333\u001b[39m     \u001b[38;5;28mprint\u001b[39m(\u001b[33m\"\u001b[39m\u001b[33m[entanglement_contour_dynamics] Warning: threading shares RNG & object state. \u001b[39m\u001b[33m\"\u001b[39m\n\u001b[32m   1334\u001b[39m           \u001b[33m\"\u001b[39m\u001b[33mUse \u001b[39m\u001b[33m'\u001b[39m\u001b[33mloky\u001b[39m\u001b[33m'\u001b[39m\u001b[33m for isolation & reproducibility.\u001b[39m\u001b[33m\"\u001b[39m)\n\u001b[32m-> \u001b[39m\u001b[32m1336\u001b[39m results = \u001b[43mParallel\u001b[49m\u001b[43m(\u001b[49m\u001b[43mn_jobs\u001b[49m\u001b[43m=\u001b[49m\u001b[43mn_jobs\u001b[49m\u001b[43m,\u001b[49m\u001b[43m \u001b[49m\u001b[43mbackend\u001b[49m\u001b[43m=\u001b[49m\u001b[43mbackend\u001b[49m\u001b[43m)\u001b[49m(\n\u001b[32m   1337\u001b[39m     delayed(_worker)(s) \u001b[38;5;28;01mfor\u001b[39;00m s \u001b[38;5;129;01min\u001b[39;00m seed_ints\n\u001b[32m   1338\u001b[39m )\n\u001b[32m   1339\u001b[39m \u001b[38;5;66;03m# results: list of length `samples`; each is list over t of (Nx,Ny)\u001b[39;00m\n\u001b[32m   1340\u001b[39m \n\u001b[32m   1341\u001b[39m \u001b[38;5;66;03m# time length\u001b[39;00m\n\u001b[32m   1342\u001b[39m T = \u001b[38;5;28mlen\u001b[39m(results[\u001b[32m0\u001b[39m])\n",
      "\u001b[36mFile \u001b[39m\u001b[32m~/anaconda3/envs/fermionic_env/lib/python3.11/site-packages/joblib/parallel.py:1314\u001b[39m, in \u001b[36mParallel.__init__\u001b[39m\u001b[34m(self, n_jobs, backend, return_as, verbose, timeout, pre_dispatch, batch_size, temp_folder, max_nbytes, mmap_mode, prefer, require, **backend_kwargs)\u001b[39m\n\u001b[32m   1312\u001b[39m         backend_factory = BACKENDS[backend]\n\u001b[32m   1313\u001b[39m     \u001b[38;5;28;01mexcept\u001b[39;00m \u001b[38;5;167;01mKeyError\u001b[39;00m \u001b[38;5;28;01mas\u001b[39;00m e:\n\u001b[32m-> \u001b[39m\u001b[32m1314\u001b[39m         \u001b[38;5;28;01mraise\u001b[39;00m \u001b[38;5;167;01mValueError\u001b[39;00m(\n\u001b[32m   1315\u001b[39m             \u001b[33m\"\u001b[39m\u001b[33mInvalid backend: \u001b[39m\u001b[38;5;132;01m%s\u001b[39;00m\u001b[33m, expected one of \u001b[39m\u001b[38;5;132;01m%r\u001b[39;00m\u001b[33m\"\u001b[39m\n\u001b[32m   1316\u001b[39m             % (backend, \u001b[38;5;28msorted\u001b[39m(BACKENDS.keys()))\n\u001b[32m   1317\u001b[39m         ) \u001b[38;5;28;01mfrom\u001b[39;00m\u001b[38;5;250m \u001b[39m\u001b[34;01me\u001b[39;00m\n\u001b[32m   1318\u001b[39m     backend = backend_factory(nesting_level=nesting_level)\n\u001b[32m   1320\u001b[39m n_jobs = _get_config_param(n_jobs, context_config, \u001b[33m\"\u001b[39m\u001b[33mn_jobs\u001b[39m\u001b[33m\"\u001b[39m)\n",
      "\u001b[31mValueError\u001b[39m: Invalid backend: threads, expected one of ['loky', 'multiprocessing', 'sequential', 'threading']"
     ]
    }
   ],
   "source": [
    "# --- Cell 4: run entanglement contour DYNAMICS (gif + final frames) ---\n",
    "outdir_dyn = None\n",
    "start = time.time()\n",
    "banner(\"Running entanglement_contour_dynamics()\")\n",
    "outdir_dyn = m.entanglement_contour_dynamics(\n",
    "    samples=samples,\n",
    "    n_jobs=n_jobs,\n",
    "    backend=backend,        # \"loky\" strongly recommended for reproducibility\n",
    "    save_data=True,\n",
    "    filename_prefix=f\"smoketest_N{Nx}_S{samples}_J{n_jobs}_{backend}\"\n",
    ")\n",
    "elapsed = time.time() - start\n",
    "print(f\"\\nSaved dynamics outputs in:\\n  {outdir_dyn}\\nElapsed: {elapsed:.2f}s\")\n",
    "\n",
    "# quick peek: list files produced\n",
    "print(\"\\nArtifacts in outdir:\")\n",
    "for f in sorted(os.listdir(outdir_dyn)):\n",
    "    if f.startswith(\"smoketest\"):\n",
    "        print(\"  -\", f)"
   ]
  },
  {
   "cell_type": "code",
   "execution_count": null,
   "id": "669e0a37",
   "metadata": {},
   "outputs": [],
   "source": [
    "# --- Cell 5: preview final frames from the dynamics NPZ (optional quick check) ---\n",
    "# (This cell expects the default save naming from the previous call.)\n",
    "npz_path = os.path.join(\n",
    "    outdir_dyn,\n",
    "    f\"smoketest_N{Nx}_S{samples}_J{n_jobs}_{backend}_data.npz\"\n",
    ")\n",
    "data = np.load(npz_path)\n",
    "avg_maps  = data[\"avg_maps\"]          # shape (T, Nx, Ny)\n",
    "traj_maps = data[\"traj_maps\"]         # shape (S, T, Nx, Ny)\n",
    "\n",
    "banner(\"Preview final frames (traj[0] and avg)\")\n",
    "fig, axs = plt.subplots(1, 2, figsize=(8.5, 3.8), constrained_layout=True)\n",
    "im0 = axs[0].imshow(traj_maps[0, -1], cmap=\"Blues\", origin=\"upper\", aspect=\"equal\")\n",
    "axs[0].set_title(\"Final s(r) — traj #0\")\n",
    "im1 = axs[1].imshow(avg_maps[-1], cmap=\"Blues\", origin=\"upper\", aspect=\"equal\")\n",
    "axs[1].set_title(\"Final s(r) — sample-avg\")\n",
    "for ax in axs:\n",
    "    ax.set_xlabel(\"y\"); ax.set_ylabel(\"x\")\n",
    "fig.colorbar(im0, ax=axs[0], fraction=0.046, pad=0.04)\n",
    "fig.colorbar(im1, ax=axs[1], fraction=0.046, pad=0.04)\n",
    "plt.show()"
   ]
  },
  {
   "cell_type": "code",
   "execution_count": null,
   "id": "ac19ee92",
   "metadata": {},
   "outputs": [],
   "source": [
    "# --- Cell 6: run entanglement contour Y-PROFILES (2x2 figure) ---\n",
    "banner(\"Running entanglement_contour_yprofiles()\")\n",
    "out_pdf = m.entanglement_contour_yprofiles(\n",
    "    samples=samples,\n",
    "    n_jobs=n_jobs,\n",
    "    backend=backend,\n",
    "    save_data=True,\n",
    "    filename=None,          # let it auto-name the PDF\n",
    ")\n",
    "print(\"\\nSaved PDF:\\n \", out_pdf)\n",
    "\n",
    "# also show the saved data file path\n",
    "data_dir = os.path.dirname(out_pdf)\n",
    "prefix   = f\"entanglement_yprofiles_data_N{Nx}_S{samples}_J{n_jobs}_{backend}.npz\"\n",
    "npz_file = os.path.join(data_dir, prefix)\n",
    "print(\"Saved data:\\n \", npz_file)"
   ]
  },
  {
   "cell_type": "code",
   "execution_count": null,
   "id": "f05953da",
   "metadata": {},
   "outputs": [],
   "source": [
    "# --- Cell 7: sanity-check y-profiles data and plot one panel inline ---\n",
    "if os.path.exists(npz_file):\n",
    "    d = np.load(npz_file)\n",
    "    t_vals  = d[\"t_vals\"]                 # (T,)\n",
    "    xs      = d[\"x_positions\"]            # (num_x,)\n",
    "    trajM   = d[\"traj_profiles_mean\"]     # (num_x, T)\n",
    "    avgM    = d[\"avg_profiles\"]           # (num_x, T)\n",
    "\n",
    "    banner(\"Quick profile preview\")\n",
    "    fig, ax = plt.subplots(figsize=(6.5, 3.8))\n",
    "    for i, x0 in enumerate(xs[:min(5, len(xs))]):   # show a few traces\n",
    "        ax.plot(t_vals, trajM[i], label=f\"x0={int(x0)}\")\n",
    "    ax.set_xlabel(\"cycle t\")\n",
    "    ax.set_ylabel(r\"$\\sum_y s(x_0,y)$\")\n",
    "    ax.set_title(r\"Traj-resolved mean $\\overline{s_{G_2}}$ (subset)\")\n",
    "    ax.grid(True, alpha=0.3)\n",
    "    ax.legend(fontsize=8, ncols=2)\n",
    "    plt.show()\n",
    "else:\n",
    "    print(\"Data npz not found (did save_data=True?).\")"
   ]
  },
  {
   "cell_type": "code",
   "execution_count": null,
   "id": "93956a87",
   "metadata": {},
   "outputs": [],
   "source": [
    "# --- Cell 8: quick A/B test of backends (optional) ---\n",
    "# WARNING: \"threading\" shares RNG & object state; use for speed only, not reproducibility.\n",
    "for bk in (\"threading\", \"loky\"):\n",
    "    banner(f\"Backend check: {bk}\")\n",
    "    m.entanglement_contour_dynamics(\n",
    "        samples=2, n_jobs=2, backend=bk,\n",
    "        save_data=False, filename_prefix=f\"bkchk_{bk}_N{Nx}\"\n",
    "    )\n",
    "print(\"Backend check done.\")"
   ]
  },
  {
   "cell_type": "code",
   "execution_count": null,
   "id": "d666b67b",
   "metadata": {},
   "outputs": [],
   "source": []
  }
 ],
 "metadata": {
  "kernelspec": {
   "display_name": "fermionic_env",
   "language": "python",
   "name": "python3"
  },
  "language_info": {
   "codemirror_mode": {
    "name": "ipython",
    "version": 3
   },
   "file_extension": ".py",
   "mimetype": "text/x-python",
   "name": "python",
   "nbconvert_exporter": "python",
   "pygments_lexer": "ipython3",
   "version": "3.11.13"
  }
 },
 "nbformat": 4,
 "nbformat_minor": 5
}
